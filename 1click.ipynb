{
  "nbformat": 4,
  "nbformat_minor": 0,
  "metadata": {
    "colab": {
      "provenance": []
    },
    "kernelspec": {
      "name": "python3",
      "display_name": "Python 3"
    },
    "language_info": {
      "name": "python"
    }
  },
  "cells": [
    {
      "cell_type": "code",
      "source": [
        "import os\n",
        "import json\n",
        "import pyarrow.fs\n",
        "import sycamore\n",
        "from pinecone import Pinecone\n",
        "from sycamore.functions.tokenizer import OpenAITokenizer\n",
        "from sycamore.llms import OpenAIModels, OpenAI\n",
        "from sycamore.transforms import COALESCE_WHITESPACE\n",
        "from sycamore.transforms.merge_elements import GreedySectionMerger\n",
        "from sycamore.transforms.partition import ArynPartitioner\n",
        "from sycamore.transforms.embed import OpenAIEmbedder\n",
        "from sycamore.materialize_config import MaterializeSourceMode\n",
        "from sycamore.utils.pdf_utils import show_pages\n",
        "from sycamore.transforms.summarize_images import SummarizeImages\n",
        "from sycamore.context import ExecMode\n",
        "from pinecone import ServerlessSpec\n",
        "\n",
        "ctx = sycamore.init(ExecMode.LOCAL)"
      ],
      "metadata": {
        "id": "0NOUFIVUDdCz"
      },
      "execution_count": 5,
      "outputs": []
    },
    {
      "cell_type": "code",
      "source": [
        "from pinecone import Pinecone\n",
        "\n",
        "client = Pinecone(\n",
        "    api_key=\"pcsk_4P1CDJ_3Dx22sxGN8Vq2hS7TXe2MWgD2gp1QFe4z8Qnj4g86rcK3HSA9xiPXEjxpTXrLrt\",\n",
        "    environment=\"us-east-1\"\n",
        ")"
      ],
      "metadata": {
        "id": "adKeGxOF-vNn"
      },
      "execution_count": 6,
      "outputs": []
    },
    {
      "cell_type": "code",
      "source": [
        "index_name = \"demo\"\n",
        "\n",
        "all_indexes = client.list_indexes().indexes\n",
        "\n",
        "exists = any(index['name'] == index_name for index in all_indexes)\n",
        "\n",
        "if exists:\n",
        "  index = client.Index(index_name)\n",
        "else:\n",
        "  client.create_index(\n",
        "      name=index_name,\n",
        "      dimension=1536,\n",
        "      metric=\"cosine\"\n",
        "      )\n",
        "  index=client.Index(index_name)"
      ],
      "metadata": {
        "id": "mDe0Ist8Ig4f"
      },
      "execution_count": 7,
      "outputs": []
    },
    {
      "cell_type": "code",
      "source": [
        "index_name = \"demo\"\n",
        "\n",
        "existing_indexes = client.list_indexes().names()\n",
        "print(\"Existing indexes:\", existing_indexes)\n",
        "\n",
        "if index_name not in existing_indexes:\n",
        "    client.create_index(\n",
        "        name=index_name,\n",
        "        dimension=1536,\n",
        "        metric=\"cosine\"\n",
        "    )\n",
        "    print(f\"Index '{index_name}' created.\")"
      ],
      "metadata": {
        "colab": {
          "base_uri": "https://localhost:8080/"
        },
        "id": "hgPbpZwFuXYX",
        "outputId": "cbab9dcb-56b1-4a16-e43c-01304b9369fe"
      },
      "execution_count": 8,
      "outputs": [
        {
          "output_type": "stream",
          "name": "stdout",
          "text": [
            "Existing indexes: ['demo2', 'quickstart', 'demo']\n"
          ]
        }
      ]
    },
    {
      "cell_type": "code",
      "source": [
        "index = client.Index(index_name)\n",
        "\n",
        "query_docs = ctx.read.pinecone(index_name=index_name, api_key='pcsk_4P1CDJ_3Dx22sxGN8Vq2hS7TXe2MWgD2gp1QFe4z8Qnj4g86rcK3HSA9xiPXEjxpTXrLrt')\n",
        "query_docs.show(show_embedding=False)\n",
        "# print(typeOf(query_docs))\n",
        "#doc_ids = [doc['doc_id'] for doc in query_docs.docs]  # Assuming 'docs' is the correct attribute\n"
      ],
      "metadata": {
        "colab": {
          "base_uri": "https://localhost:8080/"
        },
        "id": "OprsSmW2uaYI",
        "outputId": "5e6132b4-3117-4b5f-e0db-5175c399f4f7"
      },
      "execution_count": 26,
      "outputs": [
        {
          "output_type": "stream",
          "name": "stdout",
          "text": [
            "sycamore.executor - INFO - 2025-01-10 04:08:03,849 - Executing source PineconeReader\n"
          ]
        },
        {
          "output_type": "stream",
          "name": "stderr",
          "text": [
            "INFO:sycamore.executor:Executing source PineconeReader\n"
          ]
        },
        {
          "output_type": "stream",
          "name": "stdout",
          "text": [
            "{'doc_id': 'aryn:c-eyz5jdoo5la9mjyhe8js0f0',\n",
            " 'embedding': '<1536 floats>',\n",
            " 'parent_id': 'aryn:f-5m3jn27uji6pqemwkhm7cva',\n",
            " 'properties': {'image_size': [597.0, 826.0],\n",
            "                '_element_index': 8.0,\n",
            "                'page_number': 1.0,\n",
            "                'path': '/content/Digestive_System_508.pdf',\n",
            "                'score': 0.8949092626571655,\n",
            "                'image_mode': 'RGB',\n",
            "                '_doc_source': 'DB_QUERY'},\n",
            " 'bbox': [0.6039058909696691,\n",
            "          0.30837296919389207,\n",
            "          0.9432667451746324,\n",
            "          0.6745396839488637],\n",
            " 'type': 'Image',\n",
            " 'text_representation': 'Mouth Esophagus Stomach Liver Gallbladder Pancreas '\n",
            "                        'Small Large intestine intestine Anus Rectum',\n",
            " 'elements': [],\n",
            " 'lineage_id': 'wu2lmdhfucu571ta6tn4cmp'}\n",
            "{'doc_id': 'aryn:c-h74qiylknpj3dqhh8l17kmf',\n",
            " 'embedding': '<1536 floats>',\n",
            " 'parent_id': 'aryn:f-dwz10usa1d4lwk43lwp57ez',\n",
            " 'bbox': [0.23525848388671874,\n",
            "          0.9615348677201705,\n",
            "          0.5640300436580883,\n",
            "          0.9749836869673295],\n",
            " 'properties': {'_element_index': 44.0,\n",
            "                'page_number': 5.0,\n",
            "                'path': '/content/Digestive_System_508.pdf',\n",
            "                'score': 0.8974061608314514,\n",
            "                '_doc_source': 'DB_QUERY'},\n",
            " 'type': 'Page-footer',\n",
            " 'text_representation': ' The Digestive System and How It Works',\n",
            " 'elements': [],\n",
            " 'lineage_id': 'n76z3ksakv22k1z9d09tqjc'}\n",
            "{'doc_id': 'aryn:c-d0pd9slrb56k4o44i0tgeo0',\n",
            " 'embedding': '<1536 floats>',\n",
            " 'parent_id': 'aryn:f-5m3jn27uji6pqemwkhm7cva',\n",
            " 'properties': {'page_numbers': [2.0],\n",
            "                '_element_index': 11.0,\n",
            "                'page_number': 2.0,\n",
            "                'path': '/content/Digestive_System_508.pdf',\n",
            "                'score': 0.9390789270401001,\n",
            "                '_doc_source': 'DB_QUERY'},\n",
            " 'bbox': [0.23475133559283087,\n",
            "          0.18170404607599433,\n",
            "          0.9445064769071692,\n",
            "          0.6820977783203125],\n",
            " 'type': 'Text',\n",
            " 'text_representation': 'into the blood. which then carries them. throughout '\n",
            "                        'the body. The Dietary Guidelines for Americans,  '\n",
            "                        '<2228 chars>',\n",
            " 'elements': [],\n",
            " 'lineage_id': 'qs6ud2gkklz1jp1y1xau6e9'}\n",
            "{'doc_id': 'aryn:c-snpqx96iec0590p95f8lznm',\n",
            " 'embedding': '<1536 floats>',\n",
            " 'parent_id': 'aryn:f-5m3jn27uji6pqemwkhm7cva',\n",
            " 'bbox': [0.23607201071346506,\n",
            "          0.9615080122514205,\n",
            "          0.5639382036994486,\n",
            "          0.9748051313920455],\n",
            " 'properties': {'_element_index': 75.0,\n",
            "                'page_number': 7.0,\n",
            "                'path': '/content/Digestive_System_508.pdf',\n",
            "                'score': 0.8907433748245239,\n",
            "                '_doc_source': 'DB_QUERY'},\n",
            " 'type': 'Page-footer',\n",
            " 'text_representation': 'The Digestive System and How It Works',\n",
            " 'elements': [],\n",
            " 'lineage_id': 'cmdbzxpagtv6yfobs6rzwgs'}\n",
            "{'doc_id': 'aryn:c-mk3mfcb1052kb990d9im4a1',\n",
            " 'embedding': '<1536 floats>',\n",
            " 'parent_id': 'aryn:f-5m3jn27uji6pqemwkhm7cva',\n",
            " 'properties': {'page_numbers': [8.0],\n",
            "                '_element_index': 77.0,\n",
            "                'page_number': 8.0,\n",
            "                'path': '/content/Digestive_System_508.pdf',\n",
            "                'score': 0.688573956489563,\n",
            "                '_doc_source': 'DB_QUERY'},\n",
            " 'bbox': [0.23508553897633272,\n",
            "          0.2278122919256037,\n",
            "          0.575095645680147,\n",
            "          0.7161591685901989],\n",
            " 'type': 'Text',\n",
            " 'text_representation': '2 Information Way. Bethesda, MD 20892-3570 Phone: '\n",
            "                        '1-800-891-5389 TTY: 1-866-569-1162 Fax: 703-738-49 '\n",
            "                        '<942 chars>',\n",
            " 'elements': [],\n",
            " 'lineage_id': 'wsczxwe56uo2ajypyzi6wt1'}\n",
            "{'doc_id': 'aryn:c-o1n6ixtwndzc1ip5bdt5gsx',\n",
            " 'embedding': '<1536 floats>',\n",
            " 'parent_id': 'aryn:f-5m3jn27uji6pqemwkhm7cva',\n",
            " 'bbox': [0.23515434713924632,\n",
            "          0.8048939098011364,\n",
            "          0.5010612577550552,\n",
            "          0.8177945223721591],\n",
            " 'properties': {'_element_index': 73.0,\n",
            "                'page_number': 7.0,\n",
            "                'path': '/content/Digestive_System_508.pdf',\n",
            "                'score': 0.7244881987571716,\n",
            "                '_doc_source': 'DB_QUERY'},\n",
            " 'type': 'Section-header',\n",
            " 'text_representation': 'Academy of Nutrition and Dietetics',\n",
            " 'elements': [],\n",
            " 'lineage_id': 'u1cyx2jz1xsftetan2gsp2i'}\n",
            "{'doc_id': 'aryn:c-37bp0kkx043nes6opkraxwx',\n",
            " 'embedding': '<1536 floats>',\n",
            " 'parent_id': 'aryn:f-5m3jn27uji6pqemwkhm7cva',\n",
            " 'bbox': [0.0655094685274012,\n",
            "          0.4350583163174716,\n",
            "          0.16621127857881435,\n",
            "          0.4599559714577415],\n",
            " 'properties': {'_element_index': 4.0,\n",
            "                'page_number': 1.0,\n",
            "                'path': '/content/Digestive_System_508.pdf',\n",
            "                'score': 0.4549832344055176,\n",
            "                '_doc_source': 'DB_QUERY'},\n",
            " 'type': 'Caption',\n",
            " 'text_representation': 'National Institute of Diabetes and Digestive and '\n",
            "                        'Kidney Diseases',\n",
            " 'elements': [],\n",
            " 'lineage_id': 'oeaoybeeb1reatiarwusa4e'}\n",
            "{'doc_id': 'aryn:c-v7wlzxtweq8izt5x63tp306',\n",
            " 'embedding': '<1536 floats>',\n",
            " 'parent_id': 'aryn:f-dwz10usa1d4lwk43lwp57ez',\n",
            " 'bbox': [0.6037049057904412,\n",
            "          0.18312468095259232,\n",
            "          0.8188092400045955,\n",
            "          0.20121677745472302],\n",
            " 'properties': {'_element_index': 62.0,\n",
            "                'page_number': 7.0,\n",
            "                'path': '/content/Digestive_System_508.pdf',\n",
            "                'score': 0.8427293300628662,\n",
            "                '_doc_source': 'DB_QUERY'},\n",
            " 'type': 'Section-header',\n",
            " 'text_representation': 'Acknowledgments',\n",
            " 'elements': [],\n",
            " 'lineage_id': 'tchrb23najc9thce1a21hke'}\n",
            "{'doc_id': 'aryn:c-599hbqvw6vhzoxikndhm13b',\n",
            " 'embedding': '<1536 floats>',\n",
            " 'parent_id': 'aryn:f-dwz10usa1d4lwk43lwp57ez',\n",
            " 'bbox': [0.2359642298081342,\n",
            "          0.3855625499378551,\n",
            "          0.4633140653722426,\n",
            "          0.39786440762606534],\n",
            " 'properties': {'_element_index': 23.0,\n",
            "                'page_number': 3.0,\n",
            "                'path': '/content/Digestive_System_508.pdf',\n",
            "                'score': 0.7733431458473206,\n",
            "                '_doc_source': 'DB_QUERY'},\n",
            " 'type': 'Caption',\n",
            " 'text_representation': 'Table 1. The digestive process',\n",
            " 'elements': [],\n",
            " 'lineage_id': 'we4xoj64porbwskx8njbt2k'}\n",
            "{'doc_id': 'aryn:c-p4hos71e4ysjr8pnx680gy9',\n",
            " 'embedding': '<1536 floats>',\n",
            " 'parent_id': 'aryn:f-dwz10usa1d4lwk43lwp57ez',\n",
            " 'properties': {'page_numbers': [5.0],\n",
            "                '_element_index': 41.0,\n",
            "                'page_number': 5.0,\n",
            "                'path': '/content/Digestive_System_508.pdf',\n",
            "                'score': 0.9418585896492004,\n",
            "                '_doc_source': 'DB_QUERY'},\n",
            " 'bbox': [0.23505828857421876,\n",
            "          0.4707267067649148,\n",
            "          0.9313167078354779,\n",
            "          0.7104686945134944],\n",
            " 'type': 'Text',\n",
            " 'text_representation': 'The small intestine absorbs most digested food '\n",
            "                        'molecules, as well as water and. minerals, and passes '\n",
            "                        '<982 chars>',\n",
            " 'elements': [],\n",
            " 'lineage_id': 'glopa6qq1x4kzwmiiv007j4'}\n",
            "{'doc_id': 'aryn:c-dk888ebqonmquuo95qllftm',\n",
            " 'embedding': '<1536 floats>',\n",
            " 'parent_id': 'aryn:f-dwz10usa1d4lwk43lwp57ez',\n",
            " 'bbox': [0.3315566119025735,\n",
            "          0.875252685546875,\n",
            "          0.5325522389131434,\n",
            "          0.9504281338778409],\n",
            " 'type': 'Image+Text',\n",
            " 'properties': {'image_size': [133.0, 105.0],\n",
            "                'image_mode': 'RGB',\n",
            "                'page_numbers': [8.0],\n",
            "                '_element_index': 82.0,\n",
            "                'page_number': 8.0,\n",
            "                'path': '/content/Digestive_System_508.pdf',\n",
            "                'score': 0.560583770275116,\n",
            "                '_doc_source': 'DB_QUERY'},\n",
            " 'text_representation': 'National Institute of.  Diabetes and Digestive and '\n",
            "                        'Kidney Diseases\\n'\n",
            "                        'NIH Publication No. 13-2681 Septe <9 chars>',\n",
            " 'elements': [],\n",
            " 'lineage_id': 'b7xvwfun53ozcp2pzw8qasv'}\n",
            "{'doc_id': 'aryn:c-c19aykor0uxzm9ua4l284rm',\n",
            " 'embedding': '<1536 floats>',\n",
            " 'parent_id': 'aryn:f-5m3jn27uji6pqemwkhm7cva',\n",
            " 'bbox': [0.2345053639131434,\n",
            "          0.18176752263849433,\n",
            "          0.542403564453125,\n",
            "          0.20096987637606534],\n",
            " 'properties': {'_element_index': 19.0,\n",
            "                'page_number': 3.0,\n",
            "                'path': '/content/Digestive_System_508.pdf',\n",
            "                'score': 0.7210525274276733,\n",
            "                '_doc_source': 'DB_QUERY'},\n",
            " 'type': 'Section-header',\n",
            " 'text_representation': 'How does digestion work?',\n",
            " 'elements': [],\n",
            " 'lineage_id': 'x8a52i9fwt0pf59otedzdgd'}\n",
            "{'doc_id': 'aryn:c-1w86ftgbk7hi2k4ktrlaprd',\n",
            " 'embedding': '<1536 floats>',\n",
            " 'parent_id': 'aryn:f-5m3jn27uji6pqemwkhm7cva',\n",
            " 'bbox': [0.637113037109375,\n",
            "          0.35832963423295455,\n",
            "          0.9182805319393382,\n",
            "          0.4048602849786932],\n",
            " 'properties': {'_element_index': 55.0,\n",
            "                'page_number': 6.0,\n",
            "                'path': '/content/Digestive_System_508.pdf',\n",
            "                'score': 0.9284651279449463,\n",
            "                '_doc_source': 'DB_QUERY'},\n",
            " 'type': 'List-item',\n",
            " 'text_representation': ' Digestion begins in the mouth. with chewing and ends '\n",
            "                        'in the small intestine.',\n",
            " 'elements': [],\n",
            " 'lineage_id': 'sd204dzp51uuzz87jv7n4jd'}\n",
            "{'doc_id': 'aryn:c-o2idbx2705bvligrpn6ytq1',\n",
            " 'embedding': '<1536 floats>',\n",
            " 'parent_id': 'aryn:f-dwz10usa1d4lwk43lwp57ez',\n",
            " 'bbox': [0.6372830020680147,\n",
            "          0.6992351740056818,\n",
            "          0.9172852280560662,\n",
            "          0.8285506924715909],\n",
            " 'properties': {'_element_index': 59.0,\n",
            "                'page_number': 6.0,\n",
            "                'path': '/content/Digestive_System_508.pdf',\n",
            "                'score': 0.9053288698196411,\n",
            "                '_doc_source': 'DB_QUERY'},\n",
            " 'type': 'List-item',\n",
            " 'text_representation': 'The small intestine absorbs most digested food '\n",
            "                        'molecules, as well as water and minerals, and passes  '\n",
            "                        '<134 chars>',\n",
            " 'elements': [],\n",
            " 'lineage_id': '4vut2l25ajuporvtit0uq9s'}\n",
            "{'doc_id': 'aryn:c-rjfolbht2pqm79scjejnwnc',\n",
            " 'embedding': '<1536 floats>',\n",
            " 'parent_id': 'aryn:f-dwz10usa1d4lwk43lwp57ez',\n",
            " 'bbox': [0.23517156264361214,\n",
            "          0.5690566184303977,\n",
            "          0.47853529986213234,\n",
            "          0.6678383567116477],\n",
            " 'properties': {'_element_index': 70.0,\n",
            "                'page_number': 7.0,\n",
            "                'path': '/content/Digestive_System_508.pdf',\n",
            "                'score': 0.6532683372497559,\n",
            "                '_doc_source': 'DB_QUERY'},\n",
            " 'type': 'Text',\n",
            " 'text_representation': '6400 Goldsboro Road, Suite 200 Bethesda. MD '\n",
            "                        '20817-5846 Phone: 301-263-9000 Fax: 301-263-9025 '\n",
            "                        'Email:  <36 chars>',\n",
            " 'elements': [],\n",
            " 'lineage_id': 'ee1dshmds6m09pu2sk5sdd1'}\n",
            "{'doc_id': 'aryn:c-ua3qy3khiz6x4gnbrnthibf',\n",
            " 'embedding': '<1536 floats>',\n",
            " 'parent_id': 'aryn:f-5m3jn27uji6pqemwkhm7cva',\n",
            " 'bbox': [0.23445057588465074,\n",
            "          0.18144242720170456,\n",
            "          0.5647080006318934,\n",
            "          0.2011375011097301],\n",
            " 'properties': {'_element_index': 10.0,\n",
            "                'page_number': 2.0,\n",
            "                'path': '/content/Digestive_System_508.pdf',\n",
            "                'score': 0.8018710613250732,\n",
            "                '_doc_source': 'DB_QUERY'},\n",
            " 'type': 'Section-header',\n",
            " 'text_representation': 'Why is digestion important?',\n",
            " 'elements': [],\n",
            " 'lineage_id': 'oyun59pejhhtxacy76bhoe3'}\n",
            "{'doc_id': 'aryn:c-n1xqjjkqaez73m47vsbqzdb',\n",
            " 'embedding': '<1536 floats>',\n",
            " 'parent_id': 'aryn:f-dwz10usa1d4lwk43lwp57ez',\n",
            " 'bbox': [0.23445057588465074,\n",
            "          0.18144242720170456,\n",
            "          0.5647080006318934,\n",
            "          0.2011375011097301],\n",
            " 'properties': {'_element_index': 10.0,\n",
            "                'page_number': 2.0,\n",
            "                'path': '/content/Digestive_System_508.pdf',\n",
            "                'score': 0.8018710613250732,\n",
            "                '_doc_source': 'DB_QUERY'},\n",
            " 'type': 'Section-header',\n",
            " 'text_representation': 'Why is digestion important?',\n",
            " 'elements': [],\n",
            " 'lineage_id': 'ofxwu7r47mofjp54pgsgu3c'}\n",
            "{'doc_id': 'aryn:c-3pcfpdi04t9htf3ie5qss4g',\n",
            " 'embedding': '<1536 floats>',\n",
            " 'parent_id': 'aryn:f-dwz10usa1d4lwk43lwp57ez',\n",
            " 'bbox': [0.6031236356847427,\n",
            "          0.42412275834517044,\n",
            "          0.9010105985753677,\n",
            "          0.4642850841175426],\n",
            " 'properties': {'_element_index': 40.0,\n",
            "                'page_number': 5.0,\n",
            "                'path': '/content/Digestive_System_508.pdf',\n",
            "                'score': 0.8190995454788208,\n",
            "                '_doc_source': 'DB_QUERY'},\n",
            " 'type': 'Section-header',\n",
            " 'text_representation': 'What happens to the digested food molecules?',\n",
            " 'elements': [],\n",
            " 'lineage_id': '8fx422wldh0qure9l6ad8ne'}\n",
            "{'doc_id': 'aryn:c-ljyq068hhyn2g6tbj45pmtv',\n",
            " 'embedding': '<1536 floats>',\n",
            " 'parent_id': 'aryn:f-5m3jn27uji6pqemwkhm7cva',\n",
            " 'bbox': [0.23425957174862133,\n",
            "          0.18194552334872158,\n",
            "          0.5669989731732537,\n",
            "          0.22184679898348722],\n",
            " 'properties': {'_element_index': 45.0,\n",
            "                'page_number': 6.0,\n",
            "                'path': '/content/Digestive_System_508.pdf',\n",
            "                'score': 0.8766246438026428,\n",
            "                '_doc_source': 'DB_QUERY'},\n",
            " 'type': 'Section-header',\n",
            " 'text_representation': 'How is the digestive process controlled?',\n",
            " 'elements': [],\n",
            " 'lineage_id': 'x2g14ukhgwociulcu0pi3mw'}\n",
            "{'doc_id': 'aryn:c-x1divewtp6g1ykiz5826z72',\n",
            " 'embedding': '<1536 floats>',\n",
            " 'parent_id': 'aryn:f-5m3jn27uji6pqemwkhm7cva',\n",
            " 'bbox': [0.23536114860983456,\n",
            "          0.6810134055397727,\n",
            "          0.5526878805721507,\n",
            "          0.6937646484375],\n",
            " 'properties': {'_element_index': 71.0,\n",
            "                'page_number': 7.0,\n",
            "                'path': '/content/Digestive_System_508.pdf',\n",
            "                'score': 0.6972750425338745,\n",
            "                '_doc_source': 'DB_QUERY'},\n",
            " 'type': 'Section-header',\n",
            " 'text_representation': 'American Gastroenterological Association',\n",
            " 'elements': [],\n",
            " 'lineage_id': 'ta4q00ph6bnj6azkfg1wvbh'}\n"
          ]
        }
      ]
    },
    {
      "cell_type": "code",
      "source": [
        "fetched_vectors = index.fetch(ids=[\"aryn:f-dwz10usa1d4lwk43lwp57ez#aryn:c-8o7yrzfqi41jq6s3xfz453x\", \"aryn:f-5m3jn27uji6pqemwkhm7cva#aryn:c-9roxo8jxd6hkru0ttguemxl\"])\n",
        "print(\"Fetched vectors:\", fetched_vectors)"
      ],
      "metadata": {
        "colab": {
          "base_uri": "https://localhost:8080/"
        },
        "id": "h5GYKRik9vZh",
        "outputId": "987a26f5-4fcd-4b1a-abeb-d38a82cb0371"
      },
      "execution_count": 61,
      "outputs": [
        {
          "output_type": "stream",
          "name": "stdout",
          "text": [
            "{'namespace': '', 'usage': {'read_units': 10}, 'vectors': {}}\n"
          ]
        }
      ]
    },
    {
      "cell_type": "markdown",
      "source": [
        " Import Data into SingleStore"
      ],
      "metadata": {
        "id": "aOzggU6iFamd"
      }
    },
    {
      "cell_type": "code",
      "source": [
        "pip install mysql-connector-python"
      ],
      "metadata": {
        "colab": {
          "base_uri": "https://localhost:8080/"
        },
        "id": "hxSrjU0m99RN",
        "outputId": "2eff7c3b-209e-40c3-f8b1-d142e98cba08"
      },
      "execution_count": 17,
      "outputs": [
        {
          "output_type": "stream",
          "name": "stdout",
          "text": [
            "Collecting mysql-connector-python\n",
            "  Downloading mysql_connector_python-9.1.0-cp310-cp310-manylinux_2_28_x86_64.whl.metadata (6.0 kB)\n",
            "Downloading mysql_connector_python-9.1.0-cp310-cp310-manylinux_2_28_x86_64.whl (34.4 MB)\n",
            "\u001b[2K   \u001b[90m━━━━━━━━━━━━━━━━━━━━━━━━━━━━━━━━━━━━━━━━\u001b[0m \u001b[32m34.4/34.4 MB\u001b[0m \u001b[31m48.8 MB/s\u001b[0m eta \u001b[36m0:00:00\u001b[0m\n",
            "\u001b[?25hInstalling collected packages: mysql-connector-python\n",
            "Successfully installed mysql-connector-python-9.1.0\n"
          ]
        }
      ]
    },
    {
      "cell_type": "code",
      "source": [
        "pip show mysql-connector-python"
      ],
      "metadata": {
        "colab": {
          "base_uri": "https://localhost:8080/"
        },
        "id": "IDBQXpPeINtZ",
        "outputId": "f4fe77de-d3e6-4f5b-8975-37418f3367a4"
      },
      "execution_count": 18,
      "outputs": [
        {
          "output_type": "stream",
          "name": "stdout",
          "text": [
            "Name: mysql-connector-python\n",
            "Version: 9.1.0\n",
            "Summary: A self-contained Python driver for communicating with MySQL servers, using an API that is compliant with the Python Database API Specification v2.0 (PEP 249).\n",
            "Home-page: UNKNOWN\n",
            "Author: Oracle and/or its affiliates\n",
            "Author-email: \n",
            "License: GNU GPLv2 (with FOSS License Exception)\n",
            "Location: /usr/local/lib/python3.10/dist-packages\n",
            "Requires: \n",
            "Required-by: \n"
          ]
        }
      ]
    },
    {
      "cell_type": "code",
      "source": [
        "import mysql.connector\n",
        "\n",
        "conn = mysql.connector.connect(\n",
        "    host=\"svc-3482219c-a389-4079-b18b-d50662524e8a-shared-dml.aws-virginia-6.svc.singlestore.com\",\n",
        "    user=\"govardhan reddy-f9a7f\",\n",
        "    password=\"fcmdPLZezPWMlTNwRxDzKbq9G6PsbGwM\",\n",
        "    database=\"db_govardhanreddy_0d754\",\n",
        "    port=3333,\n",
        "    connection_timeout=30\n",
        ")\n",
        "\n",
        "cursor = conn.cursor()"
      ],
      "metadata": {
        "id": "MdtvL9xzFdYB"
      },
      "execution_count": 19,
      "outputs": []
    },
    {
      "cell_type": "code",
      "source": [
        "cursor.execute(\"\"\"\n",
        "CREATE TABLE IF NOT EXISTS pinecone_data (\n",
        "    id VARCHAR(255) PRIMARY KEY,\n",
        "    vector JSON,\n",
        "    metadata JSON\n",
        ");\n",
        "\"\"\")"
      ],
      "metadata": {
        "id": "ZV7mY_nUHD7X"
      },
      "execution_count": 20,
      "outputs": []
    },
    {
      "cell_type": "code",
      "source": [
        "import json\n",
        "\n",
        "fetched_vectors = {\n",
        "    \"aryn:f-dwz10usa1d4lwk43lwp57ez#aryn:c-8o7yrzfqi41jq6s3xfz453x\": {\n",
        "        \"values\": [0.1, 0.2, 0.3, 0.4],\n",
        "        \"metadata\": {\"description\": \"Some data for the first custom ID\"}\n",
        "    },\n",
        "    \"aryn:f-5m3jn27uji6pqemwkhm7cva#aryn:c-9roxo8jxd6hkru0ttguemxl\": {\n",
        "        \"values\": [0.5, 0.6, 0.7, 0.8],\n",
        "        \"metadata\": {\"description\": \"Some data for the second custom ID\"}\n",
        "    }\n",
        "}"
      ],
      "metadata": {
        "id": "Pd7Ns7EhJImg"
      },
      "execution_count": 21,
      "outputs": []
    },
    {
      "cell_type": "code",
      "source": [
        "data_for_db = [\n",
        "    (vector_id, json.dumps(vector['values']), json.dumps(vector['metadata']))\n",
        "    for vector_id, vector in fetched_vectors.items()\n",
        "]"
      ],
      "metadata": {
        "id": "k6gazys8LDO1"
      },
      "execution_count": 22,
      "outputs": []
    },
    {
      "cell_type": "code",
      "source": [
        "insert_query = \"\"\"\n",
        "INSERT INTO pinecone_data (id, vector, metadata)\n",
        "VALUES (%s, %s, %s)\n",
        "ON DUPLICATE KEY UPDATE vector=VALUES(vector), metadata=VALUES(metadata);\n",
        "\"\"\""
      ],
      "metadata": {
        "id": "J8jsqiEHHKXo"
      },
      "execution_count": 23,
      "outputs": []
    },
    {
      "cell_type": "code",
      "source": [
        "cursor.executemany(insert_query, data_for_db)\n",
        "conn.commit()\n",
        "\n",
        "print(f\"Inserted {cursor.rowcount} rows into SingleStore!\")"
      ],
      "metadata": {
        "colab": {
          "base_uri": "https://localhost:8080/"
        },
        "id": "VRHmwGjrKAGc",
        "outputId": "c3106adb-fed9-49ef-f1a7-43c78308163a"
      },
      "execution_count": 24,
      "outputs": [
        {
          "output_type": "stream",
          "name": "stdout",
          "text": [
            "Inserted 0 rows into SingleStore!\n"
          ]
        }
      ]
    },
    {
      "cell_type": "code",
      "source": [
        "cursor.close()\n",
        "conn.close()"
      ],
      "metadata": {
        "id": "Pvus6qeoHRbS"
      },
      "execution_count": 25,
      "outputs": []
    },
    {
      "cell_type": "markdown",
      "source": [
        "Call API from SingleStore"
      ],
      "metadata": {
        "id": "cEmXfYcPHSAd"
      }
    },
    {
      "cell_type": "code",
      "source": [
        "import mysql.connector\n",
        "import requests\n",
        "import json"
      ],
      "metadata": {
        "id": "2N-VJAe-sleX"
      },
      "execution_count": 26,
      "outputs": []
    },
    {
      "cell_type": "code",
      "source": [
        "conn = mysql.connector.connect(\n",
        "    host=\"svc-3482219c-a389-4079-b18b-d50662524e8a-shared-dml.aws-virginia-6.svc.singlestore.com\",\n",
        "    user=\"govardhan reddy-f9a7f\",\n",
        "    password=\"fcmdPLZezPWMlTNwRxDzKbq9G6PsbGwM\",\n",
        "    database=\"db_govardhanreddy_0d754\",\n",
        "    port=3333,\n",
        "    connection_timeout=30\n",
        ")\n",
        "cursor = conn.cursor()"
      ],
      "metadata": {
        "id": "3C3_rhm_sP21"
      },
      "execution_count": 52,
      "outputs": []
    },
    {
      "cell_type": "code",
      "source": [
        "cursor.execute(\"SELECT id, vector, metadata FROM pinecone_data LIMIT 10\")\n",
        "rows = cursor.fetchall()\n",
        "\n",
        "for row in rows:\n",
        "  print(row)\n",
        "\n",
        "cursor.close()\n",
        "conn.close()"
      ],
      "metadata": {
        "id": "_-gi15LOsmPr",
        "colab": {
          "base_uri": "https://localhost:8080/"
        },
        "outputId": "42a8dea1-4053-4328-b739-d767630b750e"
      },
      "execution_count": 53,
      "outputs": [
        {
          "output_type": "stream",
          "name": "stdout",
          "text": [
            "('aryn:f-5m3jn27uji6pqemwkhm7cva#aryn:c-9roxo8jxd6hkru0ttguemxl', '[0.5,0.6,0.7,0.8]', '{\"description\":\"Some data for the second custom ID\"}')\n",
            "('id2', '[0.5,0.6,0.7,0.8]', '{\"description\":\"Some data for id2\"}')\n",
            "('aryn:f-dwz10usa1d4lwk43lwp57ez#aryn:c-8o7yrzfqi41jq6s3xfz453x', '[0.1,0.2,0.3,0.4]', '{\"description\":\"Some data for the first custom ID\"}')\n",
            "('id1', '[0.1,0.2,0.3,0.4]', '{\"description\":\"Some data for id1\"}')\n"
          ]
        }
      ]
    }
  ]
}